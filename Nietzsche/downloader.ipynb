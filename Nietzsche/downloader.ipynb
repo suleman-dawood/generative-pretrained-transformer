{
 "cells": [
  {
   "cell_type": "markdown",
   "metadata": {},
   "source": [
    "Do not download at all at once"
   ]
  },
  {
   "cell_type": "markdown",
   "metadata": {},
   "source": [
    "The Gay Science"
   ]
  },
  {
   "cell_type": "code",
   "execution_count": null,
   "metadata": {},
   "outputs": [
    {
     "name": "stdout",
     "output_type": "stream",
     "text": [
      "--2024-12-02 19:31:00--  https://www.gutenberg.org/cache/epub/52124/pg52124.txt\n",
      "Resolving www.gutenberg.org (www.gutenberg.org)... 2610:28:3090:3000:0:bad:cafe:47, 152.19.134.47\n",
      "Connecting to www.gutenberg.org (www.gutenberg.org)|2610:28:3090:3000:0:bad:cafe:47|:443... connected.\n",
      "HTTP request sent, awaiting response... 200 OK\n",
      "Length: 538008 (525K) [text/plain]\n",
      "Saving to: ‘pg52124.txt’\n",
      "\n",
      "pg52124.txt         100%[===================>] 525.40K  78.7KB/s    in 6.3s    \n",
      "\n",
      "2024-12-02 19:31:08 (82.9 KB/s) - ‘pg52124.txt’ saved [538008/538008]\n",
      "\n"
     ]
    }
   ],
   "source": [
    "!wget https://www.gutenberg.org/cache/epub/52124/pg52124.txt"
   ]
  },
  {
   "cell_type": "markdown",
   "metadata": {},
   "source": [
    "Beyond Good and Evil"
   ]
  },
  {
   "cell_type": "code",
   "execution_count": 2,
   "metadata": {},
   "outputs": [
    {
     "name": "stdout",
     "output_type": "stream",
     "text": [
      "--2024-12-02 19:32:47--  https://www.gutenberg.org/cache/epub/4363/pg4363.txt\n",
      "Resolving www.gutenberg.org (www.gutenberg.org)... 2610:28:3090:3000:0:bad:cafe:47, 152.19.134.47\n",
      "Connecting to www.gutenberg.org (www.gutenberg.org)|2610:28:3090:3000:0:bad:cafe:47|:443... connected.\n",
      "HTTP request sent, awaiting response... 200 OK\n",
      "Length: 409018 (399K) [text/plain]\n",
      "Saving to: ‘pg4363.txt’\n",
      "\n",
      "pg4363.txt          100%[===================>] 399.43K   125KB/s    in 3.2s    \n",
      "\n",
      "2024-12-02 19:32:53 (125 KB/s) - ‘pg4363.txt’ saved [409018/409018]\n",
      "\n"
     ]
    }
   ],
   "source": [
    "!wget https://www.gutenberg.org/cache/epub/4363/pg4363.txt"
   ]
  },
  {
   "cell_type": "markdown",
   "metadata": {},
   "source": [
    "The Antichrist"
   ]
  },
  {
   "cell_type": "code",
   "execution_count": 3,
   "metadata": {},
   "outputs": [
    {
     "name": "stdout",
     "output_type": "stream",
     "text": [
      "--2024-12-02 19:33:31--  https://www.gutenberg.org/cache/epub/19322/pg19322.txt\n",
      "Resolving www.gutenberg.org (www.gutenberg.org)... 2610:28:3090:3000:0:bad:cafe:47, 152.19.134.47\n",
      "Connecting to www.gutenberg.org (www.gutenberg.org)|2610:28:3090:3000:0:bad:cafe:47|:443... connected.\n",
      "HTTP request sent, awaiting response... 200 OK\n",
      "Length: 226514 (221K) [text/plain]\n",
      "Saving to: ‘pg19322.txt’\n",
      "\n",
      "pg19322.txt         100%[===================>] 221.21K   256KB/s    in 0.9s    \n",
      "\n",
      "2024-12-02 19:33:33 (256 KB/s) - ‘pg19322.txt’ saved [226514/226514]\n",
      "\n"
     ]
    }
   ],
   "source": [
    "!wget https://www.gutenberg.org/cache/epub/19322/pg19322.txt"
   ]
  },
  {
   "cell_type": "markdown",
   "metadata": {},
   "source": [
    "Thus spoke Zarasthustra"
   ]
  },
  {
   "cell_type": "code",
   "execution_count": 4,
   "metadata": {},
   "outputs": [
    {
     "name": "stdout",
     "output_type": "stream",
     "text": [
      "--2024-12-02 19:34:24--  https://www.gutenberg.org/cache/epub/1998/pg1998.txt\n",
      "Resolving www.gutenberg.org (www.gutenberg.org)... 2610:28:3090:3000:0:bad:cafe:47, 152.19.134.47\n",
      "Connecting to www.gutenberg.org (www.gutenberg.org)|2610:28:3090:3000:0:bad:cafe:47|:443... connected.\n",
      "HTTP request sent, awaiting response... 200 OK\n",
      "Length: 682965 (667K) [text/plain]\n",
      "Saving to: ‘pg1998.txt’\n",
      "\n",
      "pg1998.txt          100%[===================>] 666.96K   383KB/s    in 1.7s    \n",
      "\n",
      "2024-12-02 19:34:27 (383 KB/s) - ‘pg1998.txt’ saved [682965/682965]\n",
      "\n"
     ]
    }
   ],
   "source": [
    "!wget https://www.gutenberg.org/cache/epub/1998/pg1998.txt"
   ]
  },
  {
   "cell_type": "markdown",
   "metadata": {},
   "source": [
    "The Genealogy of Morals"
   ]
  },
  {
   "cell_type": "code",
   "execution_count": 5,
   "metadata": {},
   "outputs": [
    {
     "name": "stdout",
     "output_type": "stream",
     "text": [
      "--2024-12-02 19:35:20--  https://www.gutenberg.org/cache/epub/52319/pg52319.txt\n",
      "Resolving www.gutenberg.org (www.gutenberg.org)... 2610:28:3090:3000:0:bad:cafe:47, 152.19.134.47\n",
      "Connecting to www.gutenberg.org (www.gutenberg.org)|2610:28:3090:3000:0:bad:cafe:47|:443... connected.\n",
      "HTTP request sent, awaiting response... 200 OK\n",
      "Length: 358620 (350K) [text/plain]\n",
      "Saving to: ‘pg52319.txt’\n",
      "\n",
      "pg52319.txt         100%[===================>] 350.21K   232KB/s    in 1.5s    \n",
      "\n",
      "2024-12-02 19:35:22 (232 KB/s) - ‘pg52319.txt’ saved [358620/358620]\n",
      "\n"
     ]
    }
   ],
   "source": [
    "!wget https://www.gutenberg.org/cache/epub/52319/pg52319.txt"
   ]
  },
  {
   "cell_type": "markdown",
   "metadata": {},
   "source": [
    "THe Birth of Tragedy"
   ]
  },
  {
   "cell_type": "code",
   "execution_count": 6,
   "metadata": {},
   "outputs": [
    {
     "name": "stdout",
     "output_type": "stream",
     "text": [
      "--2024-12-02 19:36:07--  https://www.gutenberg.org/cache/epub/51356/pg51356.txt\n",
      "Resolving www.gutenberg.org (www.gutenberg.org)... 2610:28:3090:3000:0:bad:cafe:47, 152.19.134.47\n",
      "Connecting to www.gutenberg.org (www.gutenberg.org)|2610:28:3090:3000:0:bad:cafe:47|:443... connected.\n",
      "HTTP request sent, awaiting response... 200 OK\n",
      "Length: 353607 (345K) [text/plain]\n",
      "Saving to: ‘pg51356.txt’\n",
      "\n",
      "pg51356.txt         100%[===================>] 345.32K   141KB/s    in 2.4s    \n",
      "\n",
      "2024-12-02 19:36:10 (141 KB/s) - ‘pg51356.txt’ saved [353607/353607]\n",
      "\n"
     ]
    }
   ],
   "source": [
    "!wget https://www.gutenberg.org/cache/epub/51356/pg51356.txt"
   ]
  },
  {
   "cell_type": "markdown",
   "metadata": {},
   "source": [
    "The Twilight of the Idols"
   ]
  },
  {
   "cell_type": "code",
   "execution_count": 7,
   "metadata": {},
   "outputs": [
    {
     "name": "stdout",
     "output_type": "stream",
     "text": [
      "--2024-12-02 19:36:44--  https://www.gutenberg.org/cache/epub/52263/pg52263.txt\n",
      "Resolving www.gutenberg.org (www.gutenberg.org)... 2610:28:3090:3000:0:bad:cafe:47, 152.19.134.47\n",
      "Connecting to www.gutenberg.org (www.gutenberg.org)|2610:28:3090:3000:0:bad:cafe:47|:443... connected.\n",
      "HTTP request sent, awaiting response... 200 OK\n",
      "Length: 454423 (444K) [text/plain]\n",
      "Saving to: ‘pg52263.txt’\n",
      "\n",
      "pg52263.txt         100%[===================>] 443.77K  79.2KB/s    in 6.0s    \n",
      "\n",
      "2024-12-02 19:36:53 (73.9 KB/s) - ‘pg52263.txt’ saved [454423/454423]\n",
      "\n"
     ]
    }
   ],
   "source": [
    "!wget https://www.gutenberg.org/cache/epub/52263/pg52263.txt"
   ]
  },
  {
   "cell_type": "markdown",
   "metadata": {},
   "source": [
    "Human, All too human"
   ]
  },
  {
   "cell_type": "code",
   "execution_count": 8,
   "metadata": {},
   "outputs": [
    {
     "name": "stdout",
     "output_type": "stream",
     "text": [
      "--2024-12-02 19:37:17--  https://www.gutenberg.org/cache/epub/38145/pg38145.txt\n",
      "Resolving www.gutenberg.org (www.gutenberg.org)... 2610:28:3090:3000:0:bad:cafe:47, 152.19.134.47\n",
      "Connecting to www.gutenberg.org (www.gutenberg.org)|2610:28:3090:3000:0:bad:cafe:47|:443... connected.\n",
      "HTTP request sent, awaiting response... 200 OK\n",
      "Length: 244238 (239K) [text/plain]\n",
      "Saving to: ‘pg38145.txt’\n",
      "\n",
      "pg38145.txt         100%[===================>] 238.51K   147KB/s    in 1.6s    \n",
      "\n",
      "2024-12-02 19:37:19 (147 KB/s) - ‘pg38145.txt’ saved [244238/244238]\n",
      "\n"
     ]
    }
   ],
   "source": [
    "!wget https://www.gutenberg.org/cache/epub/38145/pg38145.txt"
   ]
  },
  {
   "cell_type": "markdown",
   "metadata": {},
   "source": [
    "Ecce Homo"
   ]
  },
  {
   "cell_type": "code",
   "execution_count": 9,
   "metadata": {},
   "outputs": [
    {
     "name": "stdout",
     "output_type": "stream",
     "text": [
      "--2024-12-02 19:37:45--  https://www.gutenberg.org/cache/epub/52190/pg52190.txt\n",
      "Resolving www.gutenberg.org (www.gutenberg.org)... 2610:28:3090:3000:0:bad:cafe:47, 152.19.134.47\n",
      "Connecting to www.gutenberg.org (www.gutenberg.org)|2610:28:3090:3000:0:bad:cafe:47|:443... connected.\n",
      "HTTP request sent, awaiting response... 200 OK\n",
      "Length: 303755 (297K) [text/plain]\n",
      "Saving to: ‘pg52190.txt’\n",
      "\n",
      "pg52190.txt         100%[===================>] 296.64K   216KB/s    in 1.4s    \n",
      "\n",
      "2024-12-02 19:37:47 (216 KB/s) - ‘pg52190.txt’ saved [303755/303755]\n",
      "\n"
     ]
    }
   ],
   "source": [
    "!wget https://www.gutenberg.org/cache/epub/52190/pg52190.txt"
   ]
  },
  {
   "cell_type": "markdown",
   "metadata": {},
   "source": [
    "The Will to Power"
   ]
  },
  {
   "cell_type": "code",
   "execution_count": 10,
   "metadata": {},
   "outputs": [
    {
     "name": "stdout",
     "output_type": "stream",
     "text": [
      "--2024-12-02 19:38:17--  https://www.gutenberg.org/cache/epub/52914/pg52914.txt\n",
      "Resolving www.gutenberg.org (www.gutenberg.org)... 2610:28:3090:3000:0:bad:cafe:47, 152.19.134.47\n",
      "Connecting to www.gutenberg.org (www.gutenberg.org)|2610:28:3090:3000:0:bad:cafe:47|:443... connected.\n",
      "HTTP request sent, awaiting response... 200 OK\n",
      "Length: 555858 (543K) [text/plain]\n",
      "Saving to: ‘pg52914.txt’\n",
      "\n",
      "pg52914.txt         100%[===================>] 542.83K   257KB/s    in 2.1s    \n",
      "\n",
      "2024-12-02 19:38:21 (257 KB/s) - ‘pg52914.txt’ saved [555858/555858]\n",
      "\n"
     ]
    }
   ],
   "source": [
    "!wget https://www.gutenberg.org/cache/epub/52914/pg52914.txt"
   ]
  },
  {
   "cell_type": "markdown",
   "metadata": {},
   "source": [
    "The Dawn of Day"
   ]
  },
  {
   "cell_type": "code",
   "execution_count": 11,
   "metadata": {},
   "outputs": [
    {
     "name": "stdout",
     "output_type": "stream",
     "text": [
      "--2024-12-02 19:39:09--  https://www.gutenberg.org/cache/epub/39955/pg39955.txt\n",
      "Resolving www.gutenberg.org (www.gutenberg.org)... 2610:28:3090:3000:0:bad:cafe:47, 152.19.134.47\n",
      "Connecting to www.gutenberg.org (www.gutenberg.org)|2610:28:3090:3000:0:bad:cafe:47|:443... connected.\n",
      "HTTP request sent, awaiting response... 200 OK\n",
      "Length: 593551 (580K) [text/plain]\n",
      "Saving to: ‘pg39955.txt’\n",
      "\n",
      "pg39955.txt         100%[===================>] 579.64K   273KB/s    in 2.1s    \n",
      "\n",
      "2024-12-02 19:39:12 (273 KB/s) - ‘pg39955.txt’ saved [593551/593551]\n",
      "\n"
     ]
    }
   ],
   "source": [
    "!wget https://www.gutenberg.org/cache/epub/39955/pg39955.txt"
   ]
  },
  {
   "cell_type": "markdown",
   "metadata": {},
   "source": [
    "The Case of Wagner"
   ]
  },
  {
   "cell_type": "code",
   "execution_count": 12,
   "metadata": {},
   "outputs": [
    {
     "name": "stdout",
     "output_type": "stream",
     "text": [
      "--2024-12-02 19:39:13--  https://www.gutenberg.org/cache/epub/25012/pg25012.txt\n",
      "Resolving www.gutenberg.org (www.gutenberg.org)... 2610:28:3090:3000:0:bad:cafe:47, 152.19.134.47\n",
      "Connecting to www.gutenberg.org (www.gutenberg.org)|2610:28:3090:3000:0:bad:cafe:47|:443... connected.\n",
      "HTTP request sent, awaiting response... 200 OK\n",
      "Length: 192622 (188K) [text/plain]\n",
      "Saving to: ‘pg25012.txt’\n",
      "\n",
      "pg25012.txt         100%[===================>] 188.11K   201KB/s    in 0.9s    \n",
      "\n",
      "2024-12-02 19:39:15 (201 KB/s) - ‘pg25012.txt’ saved [192622/192622]\n",
      "\n"
     ]
    }
   ],
   "source": [
    "!wget https://www.gutenberg.org/cache/epub/25012/pg25012.txt"
   ]
  }
 ],
 "metadata": {
  "kernelspec": {
   "display_name": "Python 3",
   "language": "python",
   "name": "python3"
  },
  "language_info": {
   "codemirror_mode": {
    "name": "ipython",
    "version": 3
   },
   "file_extension": ".py",
   "mimetype": "text/x-python",
   "name": "python",
   "nbconvert_exporter": "python",
   "pygments_lexer": "ipython3",
   "version": "3.10.12"
  }
 },
 "nbformat": 4,
 "nbformat_minor": 2
}
